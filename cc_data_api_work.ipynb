{
 "cells": [
  {
   "cell_type": "code",
   "execution_count": null,
   "id": "d09138cf",
   "metadata": {},
   "outputs": [],
   "source": [
    "!pip install binance-connector"
   ]
  },
  {
   "cell_type": "code",
   "execution_count": 39,
   "id": "764e3fb3",
   "metadata": {},
   "outputs": [],
   "source": [
    "import requests\n",
    "import pandas as pd\n",
    "from binance.spot import Spot\n",
    "import seaborn as sns\n",
    "import matplotlib.pyplot as plt"
   ]
  },
  {
   "cell_type": "markdown",
   "id": "7362badc",
   "metadata": {},
   "source": [
    "# Question 1: Use python to collect historical BTC/USD prices of the ccix index for the last 30 days using the following endpoint"
   ]
  },
  {
   "cell_type": "code",
   "execution_count": 2,
   "id": "88faeb10",
   "metadata": {},
   "outputs": [],
   "source": [
    "url = 'https://data-api.cryptocompare.com/index/cc/v1/historical/days?market=ccix&instrument=BTC-USD&limit=30&aggregate=1&fill=true&apply_mapping=true&response_format=JSON'\n",
    "response = requests.get(url).json()\n",
    "data = response['Data']"
   ]
  },
  {
   "cell_type": "code",
   "execution_count": 11,
   "id": "d5ef6f22",
   "metadata": {},
   "outputs": [],
   "source": [
    "# Calculating daily returns (opening price vs closing price)\n",
    "\n",
    "# For each day, work out the closing price - opening price\n",
    "\n",
    "def df_from_pricing(data):\n",
    "    price_df = pd.DataFrame(data=data)\n",
    "    price_df['daily_returns'] = price_df['CLOSE'] - price_df['OPEN']\n",
    "    return price_df\n",
    "\n",
    "ccdata_df = df_from_pricing(data)\n",
    "\n",
    "average = ccdata_df['daily_returns'].mean()\n",
    "median = ccdata_df['daily_returns'].median()\n",
    "std = ccdata_df['daily_returns'].std()"
   ]
  },
  {
   "cell_type": "markdown",
   "id": "bed2dcf8",
   "metadata": {},
   "source": [
    "# Question 2: "
   ]
  },
  {
   "cell_type": "code",
   "execution_count": 76,
   "id": "404b2b20",
   "metadata": {},
   "outputs": [],
   "source": [
    "# Using CCdata's API to retreive the same data from Binance specifically\n",
    "\n",
    "url2 = 'https://data-api.cryptocompare.com/spot/v1/historical/days?market=binance&instrument=BTC-USDT&limit=30&aggregate=1&fill=true&apply_mapping=true&response_format=JSON'\n",
    "response2 = requests.get(url2).json()\n",
    "data2 = response2['Data']"
   ]
  },
  {
   "cell_type": "code",
   "execution_count": 13,
   "id": "a0d27cd9",
   "metadata": {
    "scrolled": true
   },
   "outputs": [],
   "source": [
    "binance_df = df_from_pricing(data2)"
   ]
  },
  {
   "cell_type": "code",
   "execution_count": null,
   "id": "98f00013",
   "metadata": {},
   "outputs": [],
   "source": [
    "# Using Binance's API to get the same data"
   ]
  },
  {
   "cell_type": "code",
   "execution_count": 77,
   "id": "66071a2f",
   "metadata": {},
   "outputs": [],
   "source": [
    "client = Spot()\n",
    "binance_api_data = client.klines(\"BTCUSDT\", \"1d\", limit=30)"
   ]
  },
  {
   "cell_type": "code",
   "execution_count": 78,
   "id": "9efa1a57",
   "metadata": {},
   "outputs": [],
   "source": [
    "binance_api_data_list = []\n",
    "label_list = ['TIMESTAMP','OPEN','HIGH','LOW','CLOSE','VOLUME','close_time','QUOTE_VOLUME','TOTAL_TRADES']\n",
    "for day in binance_api_data:\n",
    "    day_dict = {}\n",
    "    for index, label in enumerate(label_list):\n",
    "        day_dict[label] = float(day[index])\n",
    "    binance_api_data_list.append(day_dict)"
   ]
  },
  {
   "cell_type": "code",
   "execution_count": 79,
   "id": "b7b9d25d",
   "metadata": {},
   "outputs": [],
   "source": [
    "binanceapi_df = df_from_pricing(binance_api_data_list)"
   ]
  },
  {
   "cell_type": "code",
   "execution_count": null,
   "id": "39b21eee",
   "metadata": {},
   "outputs": [],
   "source": [
    "# One clear difference is that one is counting the timestamp in seconds (CCData), and one in milliseconds (Binance)"
   ]
  },
  {
   "cell_type": "code",
   "execution_count": 51,
   "id": "dc00a2a7",
   "metadata": {},
   "outputs": [],
   "source": [
    "binanceapi_df['TIMESTAMP'] = binanceapi_df['TIMESTAMP']/1000"
   ]
  },
  {
   "cell_type": "code",
   "execution_count": 58,
   "id": "583ce30e",
   "metadata": {},
   "outputs": [
    {
     "data": {
      "text/plain": [
       "count    0.0\n",
       "mean     0.0\n",
       "std      0.0\n",
       "min      0.0\n",
       "25%      0.0\n",
       "50%      0.0\n",
       "75%      0.0\n",
       "max      0.0\n",
       "Name: TIMESTAMP, dtype: float64"
      ]
     },
     "execution_count": 58,
     "metadata": {},
     "output_type": "execute_result"
    }
   ],
   "source": [
    "binanceapi_df['TIMESTAMP'].describe() - binance_df['TIMESTAMP'].describe()"
   ]
  },
  {
   "cell_type": "code",
   "execution_count": 60,
   "id": "de996de7",
   "metadata": {},
   "outputs": [
    {
     "name": "stdout",
     "output_type": "stream",
     "text": [
      "Discrepency for TIMESTAMP:\n",
      "count    0.0\n",
      "mean     0.0\n",
      "std      0.0\n",
      "min      0.0\n",
      "25%      0.0\n",
      "50%      0.0\n",
      "75%      0.0\n",
      "max      0.0\n",
      "Name: TIMESTAMP, dtype: float64\n",
      " \n",
      "Discrepency for OPEN:\n",
      "count    0.000000\n",
      "mean     0.000333\n",
      "std      0.000440\n",
      "min      0.010000\n",
      "25%     -0.007500\n",
      "50%     -0.005000\n",
      "75%     -0.007500\n",
      "max     -0.010000\n",
      "Name: OPEN, dtype: float64\n",
      " \n",
      "Discrepency for HIGH:\n",
      "count    0.0\n",
      "mean     0.0\n",
      "std      0.0\n",
      "min      0.0\n",
      "25%      0.0\n",
      "50%      0.0\n",
      "75%      0.0\n",
      "max      0.0\n",
      "Name: HIGH, dtype: float64\n",
      " \n",
      "Discrepency for LOW:\n",
      "count    0.0\n",
      "mean     0.0\n",
      "std      0.0\n",
      "min      0.0\n",
      "25%      0.0\n",
      "50%      0.0\n",
      "75%      0.0\n",
      "max      0.0\n",
      "Name: LOW, dtype: float64\n",
      " \n",
      "Discrepency for CLOSE:\n",
      "count    0.000000\n",
      "mean     1.251333\n",
      "std     -0.782017\n",
      "min      0.000000\n",
      "25%      0.000000\n",
      "50%      0.000000\n",
      "75%      0.000000\n",
      "max      0.000000\n",
      "Name: CLOSE, dtype: float64\n",
      " \n",
      "Discrepency for VOLUME:\n",
      "count     0.000000\n",
      "mean     21.276874\n",
      "std     -11.375838\n",
      "min       0.000000\n",
      "25%       0.000000\n",
      "50%       0.000000\n",
      "75%       0.000000\n",
      "max       0.000000\n",
      "Name: VOLUME, dtype: float64\n",
      " \n",
      "Discrepency for QUOTE_VOLUME:\n",
      "count         0.000000\n",
      "mean     548555.171070\n",
      "std     -306774.886630\n",
      "min          -0.000024\n",
      "25%          -0.000166\n",
      "50%           0.000182\n",
      "75%           0.000199\n",
      "max           0.017925\n",
      "Name: QUOTE_VOLUME, dtype: float64\n",
      " \n",
      "Discrepency for TOTAL_TRADES:\n",
      "count      0.000000\n",
      "mean     376.833333\n",
      "std     -360.245570\n",
      "min        0.000000\n",
      "25%        0.000000\n",
      "50%        0.000000\n",
      "75%        0.000000\n",
      "max        0.000000\n",
      "Name: TOTAL_TRADES, dtype: float64\n",
      " \n",
      "Discrepency for daily_returns:\n",
      "count    0.000000\n",
      "mean     1.251000\n",
      "std      1.574771\n",
      "min      0.000000\n",
      "25%      0.010000\n",
      "50%      0.010000\n",
      "75%     -0.005000\n",
      "max      0.000000\n",
      "Name: daily_returns, dtype: float64\n",
      " \n"
     ]
    }
   ],
   "source": [
    "for column in binanceapi_df.columns:\n",
    "    if column in binance_df.columns:\n",
    "        print(f'Discrepency for {column}. Positive values are Binance API:')\n",
    "        print(binanceapi_df[column].describe() - binance_df[column].describe())\n",
    "        print(' ')"
   ]
  },
  {
   "cell_type": "markdown",
   "id": "0d8d6572",
   "metadata": {},
   "source": [
    "Notes on the discrepancies:\n",
    "- Timestamp, high and low are all equivalent, implying there is no issue with time zones or actual like-for-like pricing, though there could be specific prices which are incorrect due to other differences\n",
    "- Volume is negligible compared to overall values.\n",
    "- Largest discrepancy is in QUOTE_VOLUME, with almost 500k more on average for Binance. This could potentially be due to Binance providing quotes that CCdata isn't able to record."
   ]
  },
  {
   "cell_type": "code",
   "execution_count": 72,
   "id": "c5c42331",
   "metadata": {},
   "outputs": [
    {
     "data": {
      "text/plain": [
       "0     4.100800e-05\n",
       "1     1.635551e-04\n",
       "2     2.171993e-04\n",
       "3     1.792479e-02\n",
       "4     1.084089e-03\n",
       "5     2.348423e-05\n",
       "6    -1.251698e-06\n",
       "7    -2.865791e-04\n",
       "8    -3.070831e-04\n",
       "9     3.061056e-03\n",
       "10   -3.421307e-05\n",
       "11    1.664162e-04\n",
       "12   -2.419949e-05\n",
       "13   -2.139807e-05\n",
       "14   -1.509190e-04\n",
       "15   -3.310919e-03\n",
       "16    1.926422e-04\n",
       "17    4.260778e-03\n",
       "18    2.719283e-03\n",
       "19   -1.862049e-04\n",
       "20    1.168251e-05\n",
       "21   -2.526045e-04\n",
       "22   -1.374483e-04\n",
       "23    5.207062e-04\n",
       "24    3.333092e-04\n",
       "25    1.983643e-04\n",
       "26   -1.496673e-04\n",
       "27   -3.044605e-04\n",
       "28    6.165504e-04\n",
       "29    1.645666e+07\n",
       "Name: QUOTE_VOLUME, dtype: float64"
      ]
     },
     "execution_count": 72,
     "metadata": {},
     "output_type": "execute_result"
    }
   ],
   "source": [
    "binanceapi_df['QUOTE_VOLUME'] - binance_df['QUOTE_VOLUME']"
   ]
  },
  {
   "cell_type": "markdown",
   "id": "976a6095",
   "metadata": {},
   "source": [
    "Quote volume is very different, implying they have access to different types of data. This is worth investigating."
   ]
  },
  {
   "cell_type": "code",
   "execution_count": 66,
   "id": "59b35041",
   "metadata": {
    "scrolled": true
   },
   "outputs": [
    {
     "data": {
      "text/plain": [
       "0      0.00\n",
       "1      0.00\n",
       "2      0.00\n",
       "3      0.00\n",
       "4      0.00\n",
       "5      0.00\n",
       "6      0.00\n",
       "7      0.00\n",
       "8      0.00\n",
       "9      0.00\n",
       "10     0.00\n",
       "11     0.00\n",
       "12     0.00\n",
       "13     0.00\n",
       "14     0.00\n",
       "15     0.00\n",
       "16     0.00\n",
       "17     0.00\n",
       "18     0.00\n",
       "19     0.00\n",
       "20     0.00\n",
       "21     0.00\n",
       "22     0.00\n",
       "23     0.00\n",
       "24     0.00\n",
       "25     0.00\n",
       "26     0.00\n",
       "27     0.00\n",
       "28     0.00\n",
       "29    37.54\n",
       "Name: CLOSE, dtype: float64"
      ]
     },
     "execution_count": 66,
     "metadata": {},
     "output_type": "execute_result"
    }
   ],
   "source": [
    "binanceapi_df['OPEN'] - binance_df['OPEN']\n",
    "binanceapi_df['CLOSE'] - binance_df['CLOSE']"
   ]
  },
  {
   "cell_type": "markdown",
   "id": "8a12105f",
   "metadata": {},
   "source": [
    "The differences between OPEN and CLOSE are also small, but worth investigating as they are such important values.\n",
    "\n",
    "For OPEN: it seems as though there is around a USDT 0.01 difference between some opening prices, potentially due to how regularly they are updating the price of USDT - as it regularly have small fluctuations around the price of 1 USD.\n",
    "\n",
    "For CLOSE: all prices match aside from for today, which has a relatively large difference of USDT 37.54. This needs to be investigated further as it is concerning."
   ]
  },
  {
   "cell_type": "code",
   "execution_count": 73,
   "id": "79b76e5f",
   "metadata": {},
   "outputs": [
    {
     "data": {
      "text/plain": [
       "<AxesSubplot:xlabel='TIMESTAMP', ylabel='OPEN'>"
      ]
     },
     "execution_count": 73,
     "metadata": {},
     "output_type": "execute_result"
    },
    {
     "data": {
      "image/png": "[encoded data removed]",
      "text/plain": [
       "<Figure size 640x480 with 1 Axes>"
      ]
     },
     "metadata": {},
     "output_type": "display_data"
    }
   ],
   "source": [
    "sns.lineplot(data=binanceapi_df, x='TIMESTAMP', y='OPEN', label='Binance API Open')\n",
    "sns.lineplot(data=binance_df, x='TIMESTAMP', y='OPEN', label='CCdata API Open')"
   ]
  },
  {
   "cell_type": "code",
   "execution_count": 75,
   "id": "b6d62735",
   "metadata": {},
   "outputs": [
    {
     "data": {
      "text/plain": [
       "<AxesSubplot:xlabel='TIMESTAMP', ylabel='CLOSE'>"
      ]
     },
     "execution_count": 75,
     "metadata": {},
     "output_type": "execute_result"
    },
    {
     "data": {
      "image/png": "[encoded data removed]",
      "text/plain": [
       "<Figure size 640x480 with 1 Axes>"
      ]
     },
     "metadata": {},
     "output_type": "display_data"
    }
   ],
   "source": [
    "sns.lineplot(data=binanceapi_df, x='TIMESTAMP', y='CLOSE', label='Binance API Close')\n",
    "sns.lineplot(data=binance_df, x='TIMESTAMP', y='CLOSE', label='CCdata API Close')"
   ]
  }
 ],
 "metadata": {
  "kernelspec": {
   "display_name": "Python 3 (ipykernel)",
   "language": "python",
   "name": "python3"
  },
  "language_info": {
   "codemirror_mode": {
    "name": "ipython",
    "version": 3
   },
   "file_extension": ".py",
   "mimetype": "text/x-python",
   "name": "python",
   "nbconvert_exporter": "python",
   "pygments_lexer": "ipython3",
   "version": "3.10.6"
  },
  "toc": {
   "base_numbering": 1,
   "nav_menu": {},
   "number_sections": true,
   "sideBar": true,
   "skip_h1_title": false,
   "title_cell": "Table of Contents",
   "title_sidebar": "Contents",
   "toc_cell": false,
   "toc_position": {},
   "toc_section_display": true,
   "toc_window_display": false
  }
 },
 "nbformat": 4,
 "nbformat_minor": 5
}
